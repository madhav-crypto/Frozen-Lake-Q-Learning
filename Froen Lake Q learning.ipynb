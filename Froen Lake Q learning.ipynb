{
  "nbformat": 4,
  "nbformat_minor": 0,
  "metadata": {
    "colab": {
      "name": "Untitled7.ipynb",
      "provenance": []
    },
    "kernelspec": {
      "name": "python3",
      "display_name": "Python 3"
    },
    "accelerator": "GPU"
  },
  "cells": [
    {
      "cell_type": "code",
      "metadata": {
        "id": "_T-vL4P4A5UG"
      },
      "source": [
        "import numpy as np\r\n",
        "import gym\r\n",
        "import random\r\n",
        "import time\r\n",
        "from  IPython.display import clear_output"
      ],
      "execution_count": 2,
      "outputs": []
    },
    {
      "cell_type": "code",
      "metadata": {
        "id": "H0WDx354BFy4"
      },
      "source": [
        "env = gym.make('FrozenLake-v0')"
      ],
      "execution_count": 3,
      "outputs": []
    },
    {
      "cell_type": "code",
      "metadata": {
        "colab": {
          "base_uri": "https://localhost:8080/"
        },
        "id": "jq94EINGBPVF",
        "outputId": "5c473798-7590-4343-cd58-6e57154d6450"
      },
      "source": [
        "action_space_size = env.action_space.n\r\n",
        "state_space_size = env.observation_space.n\r\n",
        "\r\n",
        "q_table = np.zeros((state_space_size , action_space_size))\r\n",
        "print(q_table)"
      ],
      "execution_count": 4,
      "outputs": [
        {
          "output_type": "stream",
          "text": [
            "[[0. 0. 0. 0.]\n",
            " [0. 0. 0. 0.]\n",
            " [0. 0. 0. 0.]\n",
            " [0. 0. 0. 0.]\n",
            " [0. 0. 0. 0.]\n",
            " [0. 0. 0. 0.]\n",
            " [0. 0. 0. 0.]\n",
            " [0. 0. 0. 0.]\n",
            " [0. 0. 0. 0.]\n",
            " [0. 0. 0. 0.]\n",
            " [0. 0. 0. 0.]\n",
            " [0. 0. 0. 0.]\n",
            " [0. 0. 0. 0.]\n",
            " [0. 0. 0. 0.]\n",
            " [0. 0. 0. 0.]\n",
            " [0. 0. 0. 0.]]\n"
          ],
          "name": "stdout"
        }
      ]
    },
    {
      "cell_type": "code",
      "metadata": {
        "id": "Y_LVVPoUGYeb"
      },
      "source": [
        "num_episodes = 10000\r\n",
        "max_steps_per_epi = 100\r\n",
        "\r\n",
        "learning_rate = 0.1\r\n",
        "discount_rate = 0.99\r\n",
        "\r\n",
        "exploration_rate = 1\r\n",
        "max_explo_rate = 1\r\n",
        "min_explo_rate = 0.01\r\n",
        "\r\n",
        "exploration_decay_rate = 0.01"
      ],
      "execution_count": 13,
      "outputs": []
    },
    {
      "cell_type": "code",
      "metadata": {
        "colab": {
          "base_uri": "https://localhost:8080/"
        },
        "id": "yHmQrZKBKNPA",
        "outputId": "99e9defc-90ba-4bd8-ffda-14995a656df2"
      },
      "source": [
        "rewards_all_episodes = []\r\n",
        "\r\n",
        "for episode in range(num_episodes):\r\n",
        "\r\n",
        "  state = env.reset()\r\n",
        "  done = False\r\n",
        "  rewards_current_episode = 0\r\n",
        "\r\n",
        "  for step in range(max_steps_per_epi):\r\n",
        "\r\n",
        "    exploration_rate_threshold = random.uniform(0,1)\r\n",
        "    if exploration_rate_threshold > exploration_rate:\r\n",
        "      action = np.argmax(q_table[state,:])\r\n",
        "\r\n",
        "    else:\r\n",
        "      action = env.action_space.sample()\r\n",
        "\r\n",
        "    new_state , reward , done , info = env.step(action)\r\n",
        "\r\n",
        "    q_table[state, action] = q_table[state, action] * (1 - learning_rate) + \\\r\n",
        "        learning_rate * (reward + discount_rate * np.max(q_table[new_state, :]))\r\n",
        "\r\n",
        "    state = new_state\r\n",
        "    rewards_current_episode += reward\r\n",
        "\r\n",
        "    if done == True:\r\n",
        "      break\r\n",
        "\r\n",
        "  exploration_rate = min_explo_rate + \\\r\n",
        "      (max_explo_rate - min_explo_rate) * np.exp(-exploration_decay_rate*episode)\r\n",
        "\r\n",
        "  rewards_all_episodes.append(rewards_current_episode)\r\n",
        "\r\n",
        "rewards_per_thousand_episodes = np.split(np.array(rewards_all_episodes),num_episodes/1000)\r\n",
        "count = 1000\r\n",
        "\r\n",
        "print(\"********Average reward per thousand episodes********\\n\")\r\n",
        "for r in rewards_per_thousand_episodes:\r\n",
        "    print(count, \": \", str(sum(r/1000)))\r\n",
        "    count += 1000\r\n",
        "\r\n",
        "print(\"\\n\\n********Q-table********\\n\")\r\n",
        "print(q_table)"
      ],
      "execution_count": 14,
      "outputs": [
        {
          "output_type": "stream",
          "text": [
            "********Average reward per thousand episodes********\n",
            "\n",
            "1000 :  0.5060000000000003\n",
            "2000 :  0.6970000000000005\n",
            "3000 :  0.6890000000000005\n",
            "4000 :  0.7000000000000005\n",
            "5000 :  0.6910000000000005\n",
            "6000 :  0.6850000000000005\n",
            "7000 :  0.6450000000000005\n",
            "8000 :  0.6950000000000005\n",
            "9000 :  0.6670000000000005\n",
            "10000 :  0.7020000000000005\n",
            "\n",
            "\n",
            "********Q-table********\n",
            "\n",
            "[[0.52591199 0.50734046 0.49638525 0.47983868]\n",
            " [0.30680368 0.37463015 0.35955886 0.49004433]\n",
            " [0.42774685 0.42439239 0.41891208 0.45501404]\n",
            " [0.30568446 0.33274115 0.34008461 0.43025516]\n",
            " [0.54231324 0.39008193 0.42728569 0.42582758]\n",
            " [0.         0.         0.         0.        ]\n",
            " [0.15651571 0.10151391 0.32158181 0.1496628 ]\n",
            " [0.         0.         0.         0.        ]\n",
            " [0.31511916 0.31163976 0.4032984  0.56848268]\n",
            " [0.4690699  0.60918639 0.51083798 0.33293365]\n",
            " [0.57061443 0.44270894 0.42570508 0.28309008]\n",
            " [0.         0.         0.         0.        ]\n",
            " [0.         0.         0.         0.        ]\n",
            " [0.43487565 0.65160332 0.67627809 0.50973498]\n",
            " [0.75841305 0.86112915 0.73594534 0.77867267]\n",
            " [0.         0.         0.         0.        ]]\n"
          ],
          "name": "stdout"
        }
      ]
    },
    {
      "cell_type": "code",
      "metadata": {
        "colab": {
          "base_uri": "https://localhost:8080/"
        },
        "id": "Sl5PAnNda1vX",
        "outputId": "3d7fe901-abc3-446b-a30e-8f8d345f7978"
      },
      "source": [
        "for episode in range(3):\r\n",
        "\r\n",
        "  state = env.reset()\r\n",
        "  done = False\r\n",
        "  print(\"********Episode \",episode + 1 , \"**********\\n\\n\\n\")\r\n",
        "  time.sleep(1)\r\n",
        "\r\n",
        "  for step in range(max_steps_per_epi):\r\n",
        "    clear_output(wait = True)\r\n",
        "    env.render()\r\n",
        "    time.sleep(0.3)\r\n",
        "\r\n",
        "    action = np.argmax(q_table[state,:])\r\n",
        "    new_state, reward, done , info = env.step(action)\r\n",
        "\r\n",
        "    if done:\r\n",
        "      clear_output(wait = True)\r\n",
        "      env.render()\r\n",
        "      if reward == 1:\r\n",
        "        print(\"****You Have Reached The Goal!!*****\")\r\n",
        "        time.sleep(3)\r\n",
        "\r\n",
        "      else:\r\n",
        "        print(\"****You Have Fallen Into Hole****\")\r\n",
        "        time.sleep(3)\r\n",
        "\r\n",
        "      clear_output(wait = True)\r\n",
        "      break\r\n",
        "\r\n",
        "    state = new_state\r\n",
        "\r\n",
        "env.close()"
      ],
      "execution_count": 16,
      "outputs": [
        {
          "output_type": "stream",
          "text": [
            "  (Down)\n",
            "SFFF\n",
            "FHFH\n",
            "FFFH\n",
            "HFF\u001b[41mG\u001b[0m\n",
            "****You Have Reached The Goal!!*****\n"
          ],
          "name": "stdout"
        }
      ]
    },
    {
      "cell_type": "code",
      "metadata": {
        "id": "cPFRkuzvpNU8"
      },
      "source": [
        ""
      ],
      "execution_count": null,
      "outputs": []
    }
  ]
}